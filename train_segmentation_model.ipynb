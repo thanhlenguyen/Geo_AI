{
 "cells": [
  {
   "cell_type": "markdown",
   "metadata": {
    "vscode": {
     "languageId": "raw"
    }
   },
   "source": [
    "# Train a Semantic Segmentation Model using Segmentation-Models-PyTorch\n",
    "\n",
    "[![image](https://colab.research.google.com/assets/colab-badge.svg)](https://colab.research.google.com/github/opengeos/geoai/blob/main/docs/examples/train_segmentation_model.ipynb)\n",
    "\n",
    "This notebook demonstrates how to train semantic segmentation models for object detection (e.g., building detection) using the [segmentation-models-pytorch](https://smp.readthedocs.io) library. Unlike instance segmentation with Mask R-CNN, this approach treats the task as pixel-level binary classification.\n",
    "\n",
    "## Install packages\n",
    "To use the new functionality, ensure the required packages are installed.\n"
   ]
  },
  {
   "cell_type": "code",
   "execution_count": 1,
   "metadata": {},
   "outputs": [
    {
     "name": "stdout",
     "output_type": "stream",
     "text": [
      "Requirement already satisfied: geoai-py in d:\\git\\geo_ai\\.envs\\lib\\site-packages (0.7.1)\n",
      "Requirement already satisfied: albumentations in d:\\git\\geo_ai\\.envs\\lib\\site-packages (from geoai-py) (2.0.8)\n",
      "Requirement already satisfied: buildingregulariser in d:\\git\\geo_ai\\.envs\\lib\\site-packages (from geoai-py) (0.2.2)\n",
      "Requirement already satisfied: contextily in d:\\git\\geo_ai\\.envs\\lib\\site-packages (from geoai-py) (1.6.2)\n",
      "Requirement already satisfied: geopandas in d:\\git\\geo_ai\\.envs\\lib\\site-packages (from geoai-py) (1.1.0)\n",
      "Requirement already satisfied: huggingface_hub in d:\\git\\geo_ai\\.envs\\lib\\site-packages (from geoai-py) (0.32.4)\n",
      "Requirement already satisfied: jupyter-server-proxy in d:\\git\\geo_ai\\.envs\\lib\\site-packages (from geoai-py) (4.4.0)\n",
      "Requirement already satisfied: leafmap in d:\\git\\geo_ai\\.envs\\lib\\site-packages (from geoai-py) (0.47.2)\n",
      "Requirement already satisfied: localtileserver in d:\\git\\geo_ai\\.envs\\lib\\site-packages (from geoai-py) (0.10.6)\n",
      "Requirement already satisfied: mapclassify in d:\\git\\geo_ai\\.envs\\lib\\site-packages (from geoai-py) (2.9.0)\n",
      "Requirement already satisfied: maplibre in d:\\git\\geo_ai\\.envs\\lib\\site-packages (from geoai-py) (0.3.4)\n",
      "Requirement already satisfied: opencv-python-headless in d:\\git\\geo_ai\\.envs\\lib\\site-packages (from geoai-py) (4.11.0.86)\n",
      "Requirement already satisfied: overturemaps in d:\\git\\geo_ai\\.envs\\lib\\site-packages (from geoai-py) (0.14.0)\n",
      "Requirement already satisfied: planetary-computer in d:\\git\\geo_ai\\.envs\\lib\\site-packages (from geoai-py) (1.0.0)\n",
      "Requirement already satisfied: pystac-client in d:\\git\\geo_ai\\.envs\\lib\\site-packages (from geoai-py) (0.8.6)\n",
      "Requirement already satisfied: rasterio in d:\\git\\geo_ai\\.envs\\lib\\site-packages (from geoai-py) (1.4.3)\n",
      "Requirement already satisfied: rioxarray in d:\\git\\geo_ai\\.envs\\lib\\site-packages (from geoai-py) (0.19.0)\n",
      "Requirement already satisfied: scikit-image in d:\\git\\geo_ai\\.envs\\lib\\site-packages (from geoai-py) (0.25.2)\n",
      "Requirement already satisfied: scikit-learn in d:\\git\\geo_ai\\.envs\\lib\\site-packages (from geoai-py) (1.7.0)\n",
      "Requirement already satisfied: torch in d:\\git\\geo_ai\\.envs\\lib\\site-packages (from geoai-py) (2.7.1)\n",
      "Requirement already satisfied: torchgeo in d:\\git\\geo_ai\\.envs\\lib\\site-packages (from geoai-py) (0.7.0)\n",
      "Requirement already satisfied: torchinfo in d:\\git\\geo_ai\\.envs\\lib\\site-packages (from geoai-py) (1.8.0)\n",
      "Requirement already satisfied: tqdm in d:\\git\\geo_ai\\.envs\\lib\\site-packages (from geoai-py) (4.67.1)\n",
      "Requirement already satisfied: transformers in d:\\git\\geo_ai\\.envs\\lib\\site-packages (from geoai-py) (4.52.4)\n",
      "Requirement already satisfied: numpy>=1.24.4 in d:\\git\\geo_ai\\.envs\\lib\\site-packages (from albumentations->geoai-py) (2.2.6)\n",
      "Requirement already satisfied: scipy>=1.10.0 in d:\\git\\geo_ai\\.envs\\lib\\site-packages (from albumentations->geoai-py) (1.15.3)\n",
      "Requirement already satisfied: PyYAML in d:\\git\\geo_ai\\.envs\\lib\\site-packages (from albumentations->geoai-py) (6.0.2)\n",
      "Requirement already satisfied: pydantic>=2.9.2 in d:\\git\\geo_ai\\.envs\\lib\\site-packages (from albumentations->geoai-py) (2.11.5)\n",
      "Requirement already satisfied: albucore==0.0.24 in d:\\git\\geo_ai\\.envs\\lib\\site-packages (from albumentations->geoai-py) (0.0.24)\n",
      "Requirement already satisfied: stringzilla>=3.10.4 in d:\\git\\geo_ai\\.envs\\lib\\site-packages (from albucore==0.0.24->albumentations->geoai-py) (3.12.5)\n",
      "Requirement already satisfied: simsimd>=5.9.2 in d:\\git\\geo_ai\\.envs\\lib\\site-packages (from albucore==0.0.24->albumentations->geoai-py) (6.4.9)\n",
      "Requirement already satisfied: pyogrio>=0.7.2 in d:\\git\\geo_ai\\.envs\\lib\\site-packages (from geopandas->geoai-py) (0.11.0)\n",
      "Requirement already satisfied: packaging in d:\\git\\geo_ai\\.envs\\lib\\site-packages (from geopandas->geoai-py) (24.2)\n",
      "Requirement already satisfied: pandas>=2.0.0 in d:\\git\\geo_ai\\.envs\\lib\\site-packages (from geopandas->geoai-py) (2.3.0)\n",
      "Requirement already satisfied: pyproj>=3.5.0 in d:\\git\\geo_ai\\.envs\\lib\\site-packages (from geopandas->geoai-py) (3.7.1)\n",
      "Requirement already satisfied: shapely>=2.0.0 in d:\\git\\geo_ai\\.envs\\lib\\site-packages (from geopandas->geoai-py) (2.1.1)\n",
      "Requirement already satisfied: geopy in d:\\git\\geo_ai\\.envs\\lib\\site-packages (from contextily->geoai-py) (2.4.1)\n",
      "Requirement already satisfied: matplotlib in d:\\git\\geo_ai\\.envs\\lib\\site-packages (from contextily->geoai-py) (3.10.3)\n",
      "Requirement already satisfied: mercantile in d:\\git\\geo_ai\\.envs\\lib\\site-packages (from contextily->geoai-py) (1.2.1)\n",
      "Requirement already satisfied: pillow in d:\\git\\geo_ai\\.envs\\lib\\site-packages (from contextily->geoai-py) (11.2.1)\n",
      "Requirement already satisfied: requests in d:\\git\\geo_ai\\.envs\\lib\\site-packages (from contextily->geoai-py) (2.32.3)\n",
      "Requirement already satisfied: joblib in d:\\git\\geo_ai\\.envs\\lib\\site-packages (from contextily->geoai-py) (1.5.1)\n",
      "Requirement already satisfied: xyzservices in d:\\git\\geo_ai\\.envs\\lib\\site-packages (from contextily->geoai-py) (2025.4.0)\n",
      "Requirement already satisfied: filelock in d:\\git\\geo_ai\\.envs\\lib\\site-packages (from huggingface_hub->geoai-py) (3.18.0)\n",
      "Requirement already satisfied: fsspec>=2023.5.0 in d:\\git\\geo_ai\\.envs\\lib\\site-packages (from huggingface_hub->geoai-py) (2025.5.1)\n",
      "Requirement already satisfied: typing-extensions>=3.7.4.3 in d:\\git\\geo_ai\\.envs\\lib\\site-packages (from huggingface_hub->geoai-py) (4.14.0)\n",
      "Requirement already satisfied: colorama in d:\\git\\geo_ai\\.envs\\lib\\site-packages (from tqdm->geoai-py) (0.4.6)\n",
      "Requirement already satisfied: aiohttp in d:\\git\\geo_ai\\.envs\\lib\\site-packages (from jupyter-server-proxy->geoai-py) (3.12.12)\n",
      "Requirement already satisfied: jupyter-server>=1.24.0 in d:\\git\\geo_ai\\.envs\\lib\\site-packages (from jupyter-server-proxy->geoai-py) (2.16.0)\n",
      "Requirement already satisfied: simpervisor>=1.0.0 in d:\\git\\geo_ai\\.envs\\lib\\site-packages (from jupyter-server-proxy->geoai-py) (1.0.0)\n",
      "Requirement already satisfied: tornado>=6.1.0 in d:\\git\\geo_ai\\.envs\\lib\\site-packages (from jupyter-server-proxy->geoai-py) (6.5.1)\n",
      "Requirement already satisfied: traitlets>=5.1.0 in d:\\git\\geo_ai\\.envs\\lib\\site-packages (from jupyter-server-proxy->geoai-py) (5.14.3)\n",
      "Requirement already satisfied: anywidget in d:\\git\\geo_ai\\.envs\\lib\\site-packages (from leafmap->geoai-py) (0.9.18)\n",
      "Requirement already satisfied: bqplot in d:\\git\\geo_ai\\.envs\\lib\\site-packages (from leafmap->geoai-py) (0.12.45)\n",
      "Requirement already satisfied: duckdb in d:\\git\\geo_ai\\.envs\\lib\\site-packages (from leafmap->geoai-py) (1.3.0)\n",
      "Requirement already satisfied: folium in d:\\git\\geo_ai\\.envs\\lib\\site-packages (from leafmap->geoai-py) (0.19.7)\n",
      "Requirement already satisfied: gdown in d:\\git\\geo_ai\\.envs\\lib\\site-packages (from leafmap->geoai-py) (5.2.0)\n",
      "Requirement already satisfied: geojson in d:\\git\\geo_ai\\.envs\\lib\\site-packages (from leafmap->geoai-py) (3.2.0)\n",
      "Requirement already satisfied: h5netcdf in d:\\git\\geo_ai\\.envs\\lib\\site-packages (from leafmap->geoai-py) (1.6.1)\n",
      "Requirement already satisfied: h5py in d:\\git\\geo_ai\\.envs\\lib\\site-packages (from leafmap->geoai-py) (3.13.0)\n",
      "Requirement already satisfied: ipyevents in d:\\git\\geo_ai\\.envs\\lib\\site-packages (from leafmap->geoai-py) (2.0.2)\n",
      "Requirement already satisfied: ipyfilechooser in d:\\git\\geo_ai\\.envs\\lib\\site-packages (from leafmap->geoai-py) (0.6.0)\n",
      "Requirement already satisfied: ipyleaflet in d:\\git\\geo_ai\\.envs\\lib\\site-packages (from leafmap->geoai-py) (0.19.2)\n",
      "Requirement already satisfied: ipyvuetify in d:\\git\\geo_ai\\.envs\\lib\\site-packages (from leafmap->geoai-py) (1.11.2)\n",
      "Requirement already satisfied: ipywidgets in d:\\git\\geo_ai\\.envs\\lib\\site-packages (from leafmap->geoai-py) (8.1.7)\n",
      "Requirement already satisfied: opera-utils in d:\\git\\geo_ai\\.envs\\lib\\site-packages (from leafmap->geoai-py) (0.22.1)\n",
      "Requirement already satisfied: plotly in d:\\git\\geo_ai\\.envs\\lib\\site-packages (from leafmap->geoai-py) (6.1.2)\n",
      "Requirement already satisfied: psutil in d:\\git\\geo_ai\\.envs\\lib\\site-packages (from leafmap->geoai-py) (7.0.0)\n",
      "Requirement already satisfied: pyshp in d:\\git\\geo_ai\\.envs\\lib\\site-packages (from leafmap->geoai-py) (2.3.1)\n",
      "Requirement already satisfied: python-box in d:\\git\\geo_ai\\.envs\\lib\\site-packages (from leafmap->geoai-py) (7.3.2)\n",
      "Requirement already satisfied: scooby in d:\\git\\geo_ai\\.envs\\lib\\site-packages (from leafmap->geoai-py) (0.10.1)\n",
      "Requirement already satisfied: whiteboxgui in d:\\git\\geo_ai\\.envs\\lib\\site-packages (from leafmap->geoai-py) (2.3.0)\n",
      "Requirement already satisfied: click in d:\\git\\geo_ai\\.envs\\lib\\site-packages (from localtileserver->geoai-py) (8.2.1)\n",
      "Requirement already satisfied: flask<4,>=2.0.0 in d:\\git\\geo_ai\\.envs\\lib\\site-packages (from localtileserver->geoai-py) (3.1.1)\n",
      "Requirement already satisfied: Flask-Caching in d:\\git\\geo_ai\\.envs\\lib\\site-packages (from localtileserver->geoai-py) (2.3.1)\n",
      "Requirement already satisfied: flask-cors in d:\\git\\geo_ai\\.envs\\lib\\site-packages (from localtileserver->geoai-py) (6.0.0)\n",
      "Requirement already satisfied: flask-restx>=1.3.0 in d:\\git\\geo_ai\\.envs\\lib\\site-packages (from localtileserver->geoai-py) (1.3.0)\n",
      "Requirement already satisfied: rio-tiler in d:\\git\\geo_ai\\.envs\\lib\\site-packages (from localtileserver->geoai-py) (7.8.0)\n",
      "Requirement already satisfied: rio-cogeo in d:\\git\\geo_ai\\.envs\\lib\\site-packages (from localtileserver->geoai-py) (5.4.1)\n",
      "Requirement already satisfied: server-thread in d:\\git\\geo_ai\\.envs\\lib\\site-packages (from localtileserver->geoai-py) (0.3.0)\n",
      "Requirement already satisfied: werkzeug in d:\\git\\geo_ai\\.envs\\lib\\site-packages (from localtileserver->geoai-py) (3.1.3)\n",
      "Requirement already satisfied: networkx>=3.2 in d:\\git\\geo_ai\\.envs\\lib\\site-packages (from mapclassify->geoai-py) (3.5)\n",
      "Requirement already satisfied: threadpoolctl>=3.1.0 in d:\\git\\geo_ai\\.envs\\lib\\site-packages (from scikit-learn->geoai-py) (3.6.0)\n",
      "Requirement already satisfied: branca in d:\\git\\geo_ai\\.envs\\lib\\site-packages (from maplibre->geoai-py) (0.8.1)\n",
      "Requirement already satisfied: eval-type-backport in d:\\git\\geo_ai\\.envs\\lib\\site-packages (from maplibre->geoai-py) (0.2.2)\n",
      "Requirement already satisfied: jinja2>=3.1.6 in d:\\git\\geo_ai\\.envs\\lib\\site-packages (from maplibre->geoai-py) (3.1.6)\n",
      "Requirement already satisfied: pyarrow>=15.0.2 in d:\\git\\geo_ai\\.envs\\lib\\site-packages (from overturemaps->geoai-py) (20.0.0)\n",
      "Requirement already satisfied: pystac>=1.0.0 in d:\\git\\geo_ai\\.envs\\lib\\site-packages (from planetary-computer->geoai-py) (1.13.0)\n",
      "Requirement already satisfied: pytz>=2020.5 in d:\\git\\geo_ai\\.envs\\lib\\site-packages (from planetary-computer->geoai-py) (2025.2)\n",
      "Requirement already satisfied: python-dotenv in d:\\git\\geo_ai\\.envs\\lib\\site-packages (from planetary-computer->geoai-py) (1.1.0)\n",
      "Requirement already satisfied: python-dateutil>=2.8.2 in d:\\git\\geo_ai\\.envs\\lib\\site-packages (from pystac-client->geoai-py) (2.9.0.post0)\n",
      "Requirement already satisfied: affine in d:\\git\\geo_ai\\.envs\\lib\\site-packages (from rasterio->geoai-py) (2.4.0)\n",
      "Requirement already satisfied: attrs in d:\\git\\geo_ai\\.envs\\lib\\site-packages (from rasterio->geoai-py) (25.3.0)\n",
      "Requirement already satisfied: certifi in d:\\git\\geo_ai\\.envs\\lib\\site-packages (from rasterio->geoai-py) (2025.4.26)\n",
      "Requirement already satisfied: cligj>=0.5 in d:\\git\\geo_ai\\.envs\\lib\\site-packages (from rasterio->geoai-py) (0.7.2)\n",
      "Requirement already satisfied: click-plugins in d:\\git\\geo_ai\\.envs\\lib\\site-packages (from rasterio->geoai-py) (1.1.1)\n",
      "Requirement already satisfied: pyparsing in d:\\git\\geo_ai\\.envs\\lib\\site-packages (from rasterio->geoai-py) (3.2.3)\n",
      "Requirement already satisfied: xarray>=2024.7.0 in d:\\git\\geo_ai\\.envs\\lib\\site-packages (from rioxarray->geoai-py) (2025.4.0)\n",
      "Requirement already satisfied: imageio!=2.35.0,>=2.33 in d:\\git\\geo_ai\\.envs\\lib\\site-packages (from scikit-image->geoai-py) (2.37.0)\n",
      "Requirement already satisfied: tifffile>=2022.8.12 in d:\\git\\geo_ai\\.envs\\lib\\site-packages (from scikit-image->geoai-py) (2025.6.1)\n",
      "Requirement already satisfied: lazy-loader>=0.4 in d:\\git\\geo_ai\\.envs\\lib\\site-packages (from scikit-image->geoai-py) (0.4)\n",
      "Requirement already satisfied: sympy>=1.13.3 in d:\\git\\geo_ai\\.envs\\lib\\site-packages (from torch->geoai-py) (1.14.0)\n",
      "Requirement already satisfied: setuptools in d:\\git\\geo_ai\\.envs\\lib\\site-packages (from torch->geoai-py) (80.9.0)\n",
      "Requirement already satisfied: einops>=0.3 in d:\\git\\geo_ai\\.envs\\lib\\site-packages (from torchgeo->geoai-py) (0.8.1)\n",
      "Requirement already satisfied: fiona>=1.8.22 in d:\\git\\geo_ai\\.envs\\lib\\site-packages (from torchgeo->geoai-py) (1.10.1)\n",
      "Requirement already satisfied: kornia>=0.7.4 in d:\\git\\geo_ai\\.envs\\lib\\site-packages (from torchgeo->geoai-py) (0.8.1)\n",
      "Requirement already satisfied: lightly!=1.4.26,>=1.4.5 in d:\\git\\geo_ai\\.envs\\lib\\site-packages (from torchgeo->geoai-py) (1.5.21)\n",
      "Requirement already satisfied: lightning!=2.3.*,!=2.5.0,>=2 in d:\\git\\geo_ai\\.envs\\lib\\site-packages (from lightning[pytorch-extra]!=2.3.*,!=2.5.0,>=2->torchgeo->geoai-py) (2.5.1.post0)\n",
      "Requirement already satisfied: rtree>=1.0.1 in d:\\git\\geo_ai\\.envs\\lib\\site-packages (from torchgeo->geoai-py) (1.4.0)\n",
      "Requirement already satisfied: segmentation-models-pytorch>=0.3.3 in d:\\git\\geo_ai\\.envs\\lib\\site-packages (from torchgeo->geoai-py) (0.5.0)\n",
      "Requirement already satisfied: timm>=0.9.2 in d:\\git\\geo_ai\\.envs\\lib\\site-packages (from torchgeo->geoai-py) (1.0.15)\n",
      "Requirement already satisfied: torchmetrics>=1.2 in d:\\git\\geo_ai\\.envs\\lib\\site-packages (from torchgeo->geoai-py) (1.7.2)\n",
      "Requirement already satisfied: torchvision>=0.15.1 in d:\\git\\geo_ai\\.envs\\lib\\site-packages (from torchgeo->geoai-py) (0.22.1)\n",
      "Requirement already satisfied: regex!=2019.12.17 in d:\\git\\geo_ai\\.envs\\lib\\site-packages (from transformers->geoai-py) (2024.11.6)\n",
      "Requirement already satisfied: tokenizers<0.22,>=0.21 in d:\\git\\geo_ai\\.envs\\lib\\site-packages (from transformers->geoai-py) (0.21.1)\n",
      "Requirement already satisfied: safetensors>=0.4.3 in d:\\git\\geo_ai\\.envs\\lib\\site-packages (from transformers->geoai-py) (0.5.3)\n",
      "Requirement already satisfied: blinker>=1.9.0 in d:\\git\\geo_ai\\.envs\\lib\\site-packages (from flask<4,>=2.0.0->localtileserver->geoai-py) (1.9.0)\n",
      "Requirement already satisfied: itsdangerous>=2.2.0 in d:\\git\\geo_ai\\.envs\\lib\\site-packages (from flask<4,>=2.0.0->localtileserver->geoai-py) (2.2.0)\n",
      "Requirement already satisfied: markupsafe>=2.1.1 in d:\\git\\geo_ai\\.envs\\lib\\site-packages (from flask<4,>=2.0.0->localtileserver->geoai-py) (3.0.2)\n",
      "Requirement already satisfied: aniso8601>=0.82 in d:\\git\\geo_ai\\.envs\\lib\\site-packages (from flask-restx>=1.3.0->localtileserver->geoai-py) (10.0.1)\n",
      "Requirement already satisfied: jsonschema in d:\\git\\geo_ai\\.envs\\lib\\site-packages (from flask-restx>=1.3.0->localtileserver->geoai-py) (4.24.0)\n",
      "Requirement already satisfied: importlib-resources in d:\\git\\geo_ai\\.envs\\lib\\site-packages (from flask-restx>=1.3.0->localtileserver->geoai-py) (6.5.2)\n",
      "Requirement already satisfied: anyio>=3.1.0 in d:\\git\\geo_ai\\.envs\\lib\\site-packages (from jupyter-server>=1.24.0->jupyter-server-proxy->geoai-py) (4.9.0)\n",
      "Requirement already satisfied: argon2-cffi>=21.1 in d:\\git\\geo_ai\\.envs\\lib\\site-packages (from jupyter-server>=1.24.0->jupyter-server-proxy->geoai-py) (25.1.0)\n",
      "Requirement already satisfied: jupyter-client>=7.4.4 in d:\\git\\geo_ai\\.envs\\lib\\site-packages (from jupyter-server>=1.24.0->jupyter-server-proxy->geoai-py) (8.6.3)\n",
      "Requirement already satisfied: jupyter-core!=5.0.*,>=4.12 in d:\\git\\geo_ai\\.envs\\lib\\site-packages (from jupyter-server>=1.24.0->jupyter-server-proxy->geoai-py) (5.8.1)\n",
      "Requirement already satisfied: jupyter-events>=0.11.0 in d:\\git\\geo_ai\\.envs\\lib\\site-packages (from jupyter-server>=1.24.0->jupyter-server-proxy->geoai-py) (0.12.0)\n",
      "Requirement already satisfied: jupyter-server-terminals>=0.4.4 in d:\\git\\geo_ai\\.envs\\lib\\site-packages (from jupyter-server>=1.24.0->jupyter-server-proxy->geoai-py) (0.5.3)\n",
      "Requirement already satisfied: nbconvert>=6.4.4 in d:\\git\\geo_ai\\.envs\\lib\\site-packages (from jupyter-server>=1.24.0->jupyter-server-proxy->geoai-py) (7.16.6)\n",
      "Requirement already satisfied: nbformat>=5.3.0 in d:\\git\\geo_ai\\.envs\\lib\\site-packages (from jupyter-server>=1.24.0->jupyter-server-proxy->geoai-py) (5.10.4)\n",
      "Requirement already satisfied: overrides>=5.0 in d:\\git\\geo_ai\\.envs\\lib\\site-packages (from jupyter-server>=1.24.0->jupyter-server-proxy->geoai-py) (7.7.0)\n",
      "Requirement already satisfied: prometheus-client>=0.9 in d:\\git\\geo_ai\\.envs\\lib\\site-packages (from jupyter-server>=1.24.0->jupyter-server-proxy->geoai-py) (0.22.1)\n",
      "Requirement already satisfied: pywinpty>=2.0.1 in d:\\git\\geo_ai\\.envs\\lib\\site-packages (from jupyter-server>=1.24.0->jupyter-server-proxy->geoai-py) (2.0.15)\n",
      "Requirement already satisfied: pyzmq>=24 in d:\\git\\geo_ai\\.envs\\lib\\site-packages (from jupyter-server>=1.24.0->jupyter-server-proxy->geoai-py) (26.4.0)\n",
      "Requirement already satisfied: send2trash>=1.8.2 in d:\\git\\geo_ai\\.envs\\lib\\site-packages (from jupyter-server>=1.24.0->jupyter-server-proxy->geoai-py) (1.8.3)\n",
      "Requirement already satisfied: terminado>=0.8.3 in d:\\git\\geo_ai\\.envs\\lib\\site-packages (from jupyter-server>=1.24.0->jupyter-server-proxy->geoai-py) (0.18.1)\n",
      "Requirement already satisfied: websocket-client>=1.7 in d:\\git\\geo_ai\\.envs\\lib\\site-packages (from jupyter-server>=1.24.0->jupyter-server-proxy->geoai-py) (1.8.0)\n",
      "Requirement already satisfied: kornia_rs>=0.1.9 in d:\\git\\geo_ai\\.envs\\lib\\site-packages (from kornia>=0.7.4->torchgeo->geoai-py) (0.1.9)\n",
      "Requirement already satisfied: hydra-core>=1.0.0 in d:\\git\\geo_ai\\.envs\\lib\\site-packages (from lightly!=1.4.26,>=1.4.5->torchgeo->geoai-py) (1.3.2)\n",
      "Requirement already satisfied: lightly_utils~=0.0.0 in d:\\git\\geo_ai\\.envs\\lib\\site-packages (from lightly!=1.4.26,>=1.4.5->torchgeo->geoai-py) (0.0.2)\n",
      "Requirement already satisfied: six>=1.10 in d:\\git\\geo_ai\\.envs\\lib\\site-packages (from lightly!=1.4.26,>=1.4.5->torchgeo->geoai-py) (1.17.0)\n",
      "Requirement already satisfied: pytorch_lightning>=1.0.4 in d:\\git\\geo_ai\\.envs\\lib\\site-packages (from lightly!=1.4.26,>=1.4.5->torchgeo->geoai-py) (2.5.1.post0)\n",
      "Requirement already satisfied: urllib3>=1.25.3 in d:\\git\\geo_ai\\.envs\\lib\\site-packages (from lightly!=1.4.26,>=1.4.5->torchgeo->geoai-py) (2.4.0)\n",
      "Requirement already satisfied: aenum>=3.1.11 in d:\\git\\geo_ai\\.envs\\lib\\site-packages (from lightly!=1.4.26,>=1.4.5->torchgeo->geoai-py) (3.1.16)\n",
      "Requirement already satisfied: lightning-utilities<2.0,>=0.10.0 in d:\\git\\geo_ai\\.envs\\lib\\site-packages (from lightning!=2.3.*,!=2.5.0,>=2->lightning[pytorch-extra]!=2.3.*,!=2.5.0,>=2->torchgeo->geoai-py) (0.14.3)\n",
      "Requirement already satisfied: jsonargparse<5.0,>=4.27.7 in d:\\git\\geo_ai\\.envs\\lib\\site-packages (from jsonargparse[signatures]<5.0,>=4.27.7; extra == \"pytorch-extra\"->lightning[pytorch-extra]!=2.3.*,!=2.5.0,>=2->torchgeo->geoai-py) (4.40.0)\n",
      "Requirement already satisfied: omegaconf<3.0,>=2.2.3 in d:\\git\\geo_ai\\.envs\\lib\\site-packages (from lightning[pytorch-extra]!=2.3.*,!=2.5.0,>=2->torchgeo->geoai-py) (2.3.0)\n",
      "Requirement already satisfied: rich<14.0,>=12.3.0 in d:\\git\\geo_ai\\.envs\\lib\\site-packages (from lightning[pytorch-extra]!=2.3.*,!=2.5.0,>=2->torchgeo->geoai-py) (13.9.4)\n",
      "Requirement already satisfied: tensorboardX<3.0,>=2.2 in d:\\git\\geo_ai\\.envs\\lib\\site-packages (from lightning[pytorch-extra]!=2.3.*,!=2.5.0,>=2->torchgeo->geoai-py) (2.6.4)\n",
      "Requirement already satisfied: bitsandbytes<1.0,>=0.45.2 in d:\\git\\geo_ai\\.envs\\lib\\site-packages (from lightning[pytorch-extra]!=2.3.*,!=2.5.0,>=2->torchgeo->geoai-py) (0.46.0)\n",
      "Requirement already satisfied: contourpy>=1.0.1 in d:\\git\\geo_ai\\.envs\\lib\\site-packages (from matplotlib->contextily->geoai-py) (1.3.2)\n",
      "Requirement already satisfied: cycler>=0.10 in d:\\git\\geo_ai\\.envs\\lib\\site-packages (from matplotlib->contextily->geoai-py) (0.12.1)\n",
      "Requirement already satisfied: fonttools>=4.22.0 in d:\\git\\geo_ai\\.envs\\lib\\site-packages (from matplotlib->contextily->geoai-py) (4.58.1)\n",
      "Requirement already satisfied: kiwisolver>=1.3.1 in d:\\git\\geo_ai\\.envs\\lib\\site-packages (from matplotlib->contextily->geoai-py) (1.4.8)\n",
      "Requirement already satisfied: tzdata>=2022.7 in d:\\git\\geo_ai\\.envs\\lib\\site-packages (from pandas>=2.0.0->geopandas->geoai-py) (2025.2)\n",
      "Requirement already satisfied: annotated-types>=0.6.0 in d:\\git\\geo_ai\\.envs\\lib\\site-packages (from pydantic>=2.9.2->albumentations->geoai-py) (0.7.0)\n",
      "Requirement already satisfied: pydantic-core==2.33.2 in d:\\git\\geo_ai\\.envs\\lib\\site-packages (from pydantic>=2.9.2->albumentations->geoai-py) (2.33.2)\n",
      "Requirement already satisfied: typing-inspection>=0.4.0 in d:\\git\\geo_ai\\.envs\\lib\\site-packages (from pydantic>=2.9.2->albumentations->geoai-py) (0.4.1)\n",
      "Requirement already satisfied: charset-normalizer<4,>=2 in d:\\git\\geo_ai\\.envs\\lib\\site-packages (from requests->contextily->geoai-py) (3.4.2)\n",
      "Requirement already satisfied: idna<4,>=2.5 in d:\\git\\geo_ai\\.envs\\lib\\site-packages (from requests->contextily->geoai-py) (3.10)\n",
      "Requirement already satisfied: mpmath<1.4,>=1.1.0 in d:\\git\\geo_ai\\.envs\\lib\\site-packages (from sympy>=1.13.3->torch->geoai-py) (1.3.0)\n",
      "Requirement already satisfied: aiohappyeyeballs>=2.5.0 in d:\\git\\geo_ai\\.envs\\lib\\site-packages (from aiohttp->jupyter-server-proxy->geoai-py) (2.6.1)\n",
      "Requirement already satisfied: aiosignal>=1.1.2 in d:\\git\\geo_ai\\.envs\\lib\\site-packages (from aiohttp->jupyter-server-proxy->geoai-py) (1.3.2)\n",
      "Requirement already satisfied: frozenlist>=1.1.1 in d:\\git\\geo_ai\\.envs\\lib\\site-packages (from aiohttp->jupyter-server-proxy->geoai-py) (1.7.0)\n",
      "Requirement already satisfied: multidict<7.0,>=4.5 in d:\\git\\geo_ai\\.envs\\lib\\site-packages (from aiohttp->jupyter-server-proxy->geoai-py) (6.4.4)\n",
      "Requirement already satisfied: propcache>=0.2.0 in d:\\git\\geo_ai\\.envs\\lib\\site-packages (from aiohttp->jupyter-server-proxy->geoai-py) (0.3.2)\n",
      "Requirement already satisfied: yarl<2.0,>=1.17.0 in d:\\git\\geo_ai\\.envs\\lib\\site-packages (from aiohttp->jupyter-server-proxy->geoai-py) (1.20.1)\n",
      "Requirement already satisfied: psygnal>=0.8.1 in d:\\git\\geo_ai\\.envs\\lib\\site-packages (from anywidget->leafmap->geoai-py) (0.13.0)\n",
      "Requirement already satisfied: comm>=0.1.3 in d:\\git\\geo_ai\\.envs\\lib\\site-packages (from ipywidgets->leafmap->geoai-py) (0.2.2)\n",
      "Requirement already satisfied: ipython>=6.1.0 in d:\\git\\geo_ai\\.envs\\lib\\site-packages (from ipywidgets->leafmap->geoai-py) (9.3.0)\n",
      "Requirement already satisfied: widgetsnbextension~=4.0.14 in d:\\git\\geo_ai\\.envs\\lib\\site-packages (from ipywidgets->leafmap->geoai-py) (4.0.14)\n",
      "Requirement already satisfied: jupyterlab_widgets~=3.0.15 in d:\\git\\geo_ai\\.envs\\lib\\site-packages (from ipywidgets->leafmap->geoai-py) (3.0.15)\n",
      "Requirement already satisfied: traittypes>=0.0.6 in d:\\git\\geo_ai\\.envs\\lib\\site-packages (from bqplot->leafmap->geoai-py) (0.2.1)\n",
      "Requirement already satisfied: cachelib>=0.9.0 in d:\\git\\geo_ai\\.envs\\lib\\site-packages (from Flask-Caching->localtileserver->geoai-py) (0.13.0)\n",
      "Requirement already satisfied: beautifulsoup4 in d:\\git\\geo_ai\\.envs\\lib\\site-packages (from gdown->leafmap->geoai-py) (4.13.4)\n",
      "Requirement already satisfied: geographiclib<3,>=1.52 in d:\\git\\geo_ai\\.envs\\lib\\site-packages (from geopy->contextily->geoai-py) (2.0)\n",
      "Requirement already satisfied: jupyter-leaflet<0.20,>=0.19 in d:\\git\\geo_ai\\.envs\\lib\\site-packages (from ipyleaflet->leafmap->geoai-py) (0.19.2)\n",
      "Requirement already satisfied: ipyvue<2,>=1.7 in d:\\git\\geo_ai\\.envs\\lib\\site-packages (from ipyvuetify->leafmap->geoai-py) (1.11.2)\n",
      "Requirement already satisfied: pooch>=1.7 in d:\\git\\geo_ai\\.envs\\lib\\site-packages (from opera-utils->leafmap->geoai-py) (1.8.2)\n",
      "Requirement already satisfied: tyro>=0.9 in d:\\git\\geo_ai\\.envs\\lib\\site-packages (from opera-utils->leafmap->geoai-py) (0.9.24)\n",
      "Requirement already satisfied: narwhals>=1.15.1 in d:\\git\\geo_ai\\.envs\\lib\\site-packages (from plotly->leafmap->geoai-py) (1.41.0)\n",
      "Requirement already satisfied: morecantile<7.0,>=5.0 in d:\\git\\geo_ai\\.envs\\lib\\site-packages (from rio-cogeo->localtileserver->geoai-py) (6.2.0)\n",
      "Requirement already satisfied: cachetools in d:\\git\\geo_ai\\.envs\\lib\\site-packages (from rio-tiler->localtileserver->geoai-py) (6.0.0)\n",
      "Requirement already satisfied: color-operations in d:\\git\\geo_ai\\.envs\\lib\\site-packages (from rio-tiler->localtileserver->geoai-py) (0.2.0)\n",
      "Requirement already satisfied: httpx in d:\\git\\geo_ai\\.envs\\lib\\site-packages (from rio-tiler->localtileserver->geoai-py) (0.28.1)\n",
      "Requirement already satisfied: numexpr in d:\\git\\geo_ai\\.envs\\lib\\site-packages (from rio-tiler->localtileserver->geoai-py) (2.10.2)\n",
      "Requirement already satisfied: uvicorn in d:\\git\\geo_ai\\.envs\\lib\\site-packages (from server-thread->localtileserver->geoai-py) (0.34.3)\n",
      "Requirement already satisfied: ipytree in d:\\git\\geo_ai\\.envs\\lib\\site-packages (from whiteboxgui->leafmap->geoai-py) (0.2.2)\n",
      "Requirement already satisfied: whitebox in d:\\git\\geo_ai\\.envs\\lib\\site-packages (from whiteboxgui->leafmap->geoai-py) (2.3.6)\n",
      "Requirement already satisfied: sniffio>=1.1 in d:\\git\\geo_ai\\.envs\\lib\\site-packages (from anyio>=3.1.0->jupyter-server>=1.24.0->jupyter-server-proxy->geoai-py) (1.3.1)\n",
      "Requirement already satisfied: argon2-cffi-bindings in d:\\git\\geo_ai\\.envs\\lib\\site-packages (from argon2-cffi>=21.1->jupyter-server>=1.24.0->jupyter-server-proxy->geoai-py) (21.2.0)\n",
      "Requirement already satisfied: antlr4-python3-runtime==4.9.* in d:\\git\\geo_ai\\.envs\\lib\\site-packages (from hydra-core>=1.0.0->lightly!=1.4.26,>=1.4.5->torchgeo->geoai-py) (4.9.3)\n",
      "Requirement already satisfied: decorator in d:\\git\\geo_ai\\.envs\\lib\\site-packages (from ipython>=6.1.0->ipywidgets->leafmap->geoai-py) (5.2.1)\n",
      "Requirement already satisfied: ipython-pygments-lexers in d:\\git\\geo_ai\\.envs\\lib\\site-packages (from ipython>=6.1.0->ipywidgets->leafmap->geoai-py) (1.1.1)\n",
      "Requirement already satisfied: jedi>=0.16 in d:\\git\\geo_ai\\.envs\\lib\\site-packages (from ipython>=6.1.0->ipywidgets->leafmap->geoai-py) (0.19.2)\n",
      "Requirement already satisfied: matplotlib-inline in d:\\git\\geo_ai\\.envs\\lib\\site-packages (from ipython>=6.1.0->ipywidgets->leafmap->geoai-py) (0.1.7)\n",
      "Requirement already satisfied: prompt_toolkit<3.1.0,>=3.0.41 in d:\\git\\geo_ai\\.envs\\lib\\site-packages (from ipython>=6.1.0->ipywidgets->leafmap->geoai-py) (3.0.51)\n",
      "Requirement already satisfied: pygments>=2.4.0 in d:\\git\\geo_ai\\.envs\\lib\\site-packages (from ipython>=6.1.0->ipywidgets->leafmap->geoai-py) (2.19.1)\n",
      "Requirement already satisfied: stack_data in d:\\git\\geo_ai\\.envs\\lib\\site-packages (from ipython>=6.1.0->ipywidgets->leafmap->geoai-py) (0.6.3)\n",
      "Requirement already satisfied: docstring-parser>=0.15 in d:\\git\\geo_ai\\.envs\\lib\\site-packages (from jsonargparse[signatures]<5.0,>=4.27.7; extra == \"pytorch-extra\"->lightning[pytorch-extra]!=2.3.*,!=2.5.0,>=2->torchgeo->geoai-py) (0.16)\n",
      "Requirement already satisfied: typeshed-client>=2.3.0 in d:\\git\\geo_ai\\.envs\\lib\\site-packages (from jsonargparse[signatures]<5.0,>=4.27.7; extra == \"pytorch-extra\"->lightning[pytorch-extra]!=2.3.*,!=2.5.0,>=2->torchgeo->geoai-py) (2.7.0)\n",
      "Requirement already satisfied: jsonschema-specifications>=2023.03.6 in d:\\git\\geo_ai\\.envs\\lib\\site-packages (from jsonschema->flask-restx>=1.3.0->localtileserver->geoai-py) (2025.4.1)\n",
      "Requirement already satisfied: referencing>=0.28.4 in d:\\git\\geo_ai\\.envs\\lib\\site-packages (from jsonschema->flask-restx>=1.3.0->localtileserver->geoai-py) (0.36.2)\n",
      "Requirement already satisfied: rpds-py>=0.7.1 in d:\\git\\geo_ai\\.envs\\lib\\site-packages (from jsonschema->flask-restx>=1.3.0->localtileserver->geoai-py) (0.25.1)\n",
      "Requirement already satisfied: platformdirs>=2.5 in d:\\git\\geo_ai\\.envs\\lib\\site-packages (from jupyter-core!=5.0.*,>=4.12->jupyter-server>=1.24.0->jupyter-server-proxy->geoai-py) (4.3.8)\n",
      "Requirement already satisfied: pywin32>=300 in d:\\git\\geo_ai\\.envs\\lib\\site-packages (from jupyter-core!=5.0.*,>=4.12->jupyter-server>=1.24.0->jupyter-server-proxy->geoai-py) (310)\n",
      "Requirement already satisfied: python-json-logger>=2.0.4 in d:\\git\\geo_ai\\.envs\\lib\\site-packages (from jupyter-events>=0.11.0->jupyter-server>=1.24.0->jupyter-server-proxy->geoai-py) (3.3.0)\n",
      "Requirement already satisfied: rfc3339-validator in d:\\git\\geo_ai\\.envs\\lib\\site-packages (from jupyter-events>=0.11.0->jupyter-server>=1.24.0->jupyter-server-proxy->geoai-py) (0.1.4)\n",
      "Requirement already satisfied: rfc3986-validator>=0.1.1 in d:\\git\\geo_ai\\.envs\\lib\\site-packages (from jupyter-events>=0.11.0->jupyter-server>=1.24.0->jupyter-server-proxy->geoai-py) (0.1.1)\n",
      "Requirement already satisfied: bleach!=5.0.0 in d:\\git\\geo_ai\\.envs\\lib\\site-packages (from bleach[css]!=5.0.0->nbconvert>=6.4.4->jupyter-server>=1.24.0->jupyter-server-proxy->geoai-py) (6.2.0)\n",
      "Requirement already satisfied: defusedxml in d:\\git\\geo_ai\\.envs\\lib\\site-packages (from nbconvert>=6.4.4->jupyter-server>=1.24.0->jupyter-server-proxy->geoai-py) (0.7.1)\n",
      "Requirement already satisfied: jupyterlab-pygments in d:\\git\\geo_ai\\.envs\\lib\\site-packages (from nbconvert>=6.4.4->jupyter-server>=1.24.0->jupyter-server-proxy->geoai-py) (0.3.0)\n",
      "Requirement already satisfied: mistune<4,>=2.0.3 in d:\\git\\geo_ai\\.envs\\lib\\site-packages (from nbconvert>=6.4.4->jupyter-server>=1.24.0->jupyter-server-proxy->geoai-py) (3.1.3)\n",
      "Requirement already satisfied: nbclient>=0.5.0 in d:\\git\\geo_ai\\.envs\\lib\\site-packages (from nbconvert>=6.4.4->jupyter-server>=1.24.0->jupyter-server-proxy->geoai-py) (0.10.2)\n",
      "Requirement already satisfied: pandocfilters>=1.4.1 in d:\\git\\geo_ai\\.envs\\lib\\site-packages (from nbconvert>=6.4.4->jupyter-server>=1.24.0->jupyter-server-proxy->geoai-py) (1.5.1)\n",
      "Requirement already satisfied: fastjsonschema>=2.15 in d:\\git\\geo_ai\\.envs\\lib\\site-packages (from nbformat>=5.3.0->jupyter-server>=1.24.0->jupyter-server-proxy->geoai-py) (2.21.1)\n",
      "Requirement already satisfied: markdown-it-py>=2.2.0 in d:\\git\\geo_ai\\.envs\\lib\\site-packages (from rich<14.0,>=12.3.0->lightning[pytorch-extra]!=2.3.*,!=2.5.0,>=2->torchgeo->geoai-py) (3.0.0)\n",
      "Requirement already satisfied: protobuf>=3.20 in d:\\git\\geo_ai\\.envs\\lib\\site-packages (from tensorboardX<3.0,>=2.2->lightning[pytorch-extra]!=2.3.*,!=2.5.0,>=2->torchgeo->geoai-py) (6.31.1)\n",
      "Requirement already satisfied: shtab>=1.5.6 in d:\\git\\geo_ai\\.envs\\lib\\site-packages (from tyro>=0.9->opera-utils->leafmap->geoai-py) (1.7.2)\n",
      "Requirement already satisfied: typeguard>=4.0.0 in d:\\git\\geo_ai\\.envs\\lib\\site-packages (from tyro>=0.9->opera-utils->leafmap->geoai-py) (4.4.3)\n",
      "Requirement already satisfied: soupsieve>1.2 in d:\\git\\geo_ai\\.envs\\lib\\site-packages (from beautifulsoup4->gdown->leafmap->geoai-py) (2.7)\n",
      "Requirement already satisfied: httpcore==1.* in d:\\git\\geo_ai\\.envs\\lib\\site-packages (from httpx->rio-tiler->localtileserver->geoai-py) (1.0.9)\n",
      "Requirement already satisfied: h11>=0.16 in d:\\git\\geo_ai\\.envs\\lib\\site-packages (from httpcore==1.*->httpx->rio-tiler->localtileserver->geoai-py) (0.16.0)\n",
      "Requirement already satisfied: PySocks!=1.5.7,>=1.5.6 in d:\\git\\geo_ai\\.envs\\lib\\site-packages (from requests[socks]->gdown->leafmap->geoai-py) (1.7.1)\n",
      "Requirement already satisfied: webencodings in d:\\git\\geo_ai\\.envs\\lib\\site-packages (from bleach!=5.0.0->bleach[css]!=5.0.0->nbconvert>=6.4.4->jupyter-server>=1.24.0->jupyter-server-proxy->geoai-py) (0.5.1)\n",
      "Requirement already satisfied: tinycss2<1.5,>=1.1.0 in d:\\git\\geo_ai\\.envs\\lib\\site-packages (from bleach[css]!=5.0.0->nbconvert>=6.4.4->jupyter-server>=1.24.0->jupyter-server-proxy->geoai-py) (1.4.0)\n",
      "Requirement already satisfied: parso<0.9.0,>=0.8.4 in d:\\git\\geo_ai\\.envs\\lib\\site-packages (from jedi>=0.16->ipython>=6.1.0->ipywidgets->leafmap->geoai-py) (0.8.4)\n",
      "Requirement already satisfied: fqdn in d:\\git\\geo_ai\\.envs\\lib\\site-packages (from jsonschema[format-nongpl]>=4.18.0->jupyter-events>=0.11.0->jupyter-server>=1.24.0->jupyter-server-proxy->geoai-py) (1.5.1)\n",
      "Requirement already satisfied: isoduration in d:\\git\\geo_ai\\.envs\\lib\\site-packages (from jsonschema[format-nongpl]>=4.18.0->jupyter-events>=0.11.0->jupyter-server>=1.24.0->jupyter-server-proxy->geoai-py) (20.11.0)\n",
      "Requirement already satisfied: jsonpointer>1.13 in d:\\git\\geo_ai\\.envs\\lib\\site-packages (from jsonschema[format-nongpl]>=4.18.0->jupyter-events>=0.11.0->jupyter-server>=1.24.0->jupyter-server-proxy->geoai-py) (3.0.0)\n",
      "Requirement already satisfied: uri-template in d:\\git\\geo_ai\\.envs\\lib\\site-packages (from jsonschema[format-nongpl]>=4.18.0->jupyter-events>=0.11.0->jupyter-server>=1.24.0->jupyter-server-proxy->geoai-py) (1.3.0)\n",
      "Requirement already satisfied: webcolors>=24.6.0 in d:\\git\\geo_ai\\.envs\\lib\\site-packages (from jsonschema[format-nongpl]>=4.18.0->jupyter-events>=0.11.0->jupyter-server>=1.24.0->jupyter-server-proxy->geoai-py) (24.11.1)\n",
      "Requirement already satisfied: mdurl~=0.1 in d:\\git\\geo_ai\\.envs\\lib\\site-packages (from markdown-it-py>=2.2.0->rich<14.0,>=12.3.0->lightning[pytorch-extra]!=2.3.*,!=2.5.0,>=2->torchgeo->geoai-py) (0.1.2)\n",
      "Requirement already satisfied: wcwidth in d:\\git\\geo_ai\\.envs\\lib\\site-packages (from prompt_toolkit<3.1.0,>=3.0.41->ipython>=6.1.0->ipywidgets->leafmap->geoai-py) (0.2.13)\n",
      "Requirement already satisfied: cffi>=1.0.1 in d:\\git\\geo_ai\\.envs\\lib\\site-packages (from argon2-cffi-bindings->argon2-cffi>=21.1->jupyter-server>=1.24.0->jupyter-server-proxy->geoai-py) (1.17.1)\n",
      "Requirement already satisfied: executing>=1.2.0 in d:\\git\\geo_ai\\.envs\\lib\\site-packages (from stack_data->ipython>=6.1.0->ipywidgets->leafmap->geoai-py) (2.2.0)\n",
      "Requirement already satisfied: asttokens>=2.1.0 in d:\\git\\geo_ai\\.envs\\lib\\site-packages (from stack_data->ipython>=6.1.0->ipywidgets->leafmap->geoai-py) (3.0.0)\n",
      "Requirement already satisfied: pure-eval in d:\\git\\geo_ai\\.envs\\lib\\site-packages (from stack_data->ipython>=6.1.0->ipywidgets->leafmap->geoai-py) (0.2.3)\n",
      "Requirement already satisfied: pycparser in d:\\git\\geo_ai\\.envs\\lib\\site-packages (from cffi>=1.0.1->argon2-cffi-bindings->argon2-cffi>=21.1->jupyter-server>=1.24.0->jupyter-server-proxy->geoai-py) (2.22)\n",
      "Requirement already satisfied: arrow>=0.15.0 in d:\\git\\geo_ai\\.envs\\lib\\site-packages (from isoduration->jsonschema[format-nongpl]>=4.18.0->jupyter-events>=0.11.0->jupyter-server>=1.24.0->jupyter-server-proxy->geoai-py) (1.3.0)\n",
      "Requirement already satisfied: types-python-dateutil>=2.8.10 in d:\\git\\geo_ai\\.envs\\lib\\site-packages (from arrow>=0.15.0->isoduration->jsonschema[format-nongpl]>=4.18.0->jupyter-events>=0.11.0->jupyter-server>=1.24.0->jupyter-server-proxy->geoai-py) (2.9.0.20250516)\n",
      "Note: you may need to restart the kernel to use updated packages.\n"
     ]
    },
    {
     "name": "stderr",
     "output_type": "stream",
     "text": [
      "\n",
      "[notice] A new release of pip is available: 25.0.1 -> 25.1.1\n",
      "[notice] To update, run: python.exe -m pip install --upgrade pip\n"
     ]
    }
   ],
   "source": [
    "%pip install geoai-py"
   ]
  },
  {
   "cell_type": "markdown",
   "metadata": {
    "vscode": {
     "languageId": "raw"
    }
   },
   "source": [
    "## Import libraries"
   ]
  },
  {
   "cell_type": "code",
   "execution_count": 2,
   "metadata": {},
   "outputs": [],
   "source": [
    "import geoai"
   ]
  },
  {
   "cell_type": "markdown",
   "metadata": {
    "vscode": {
     "languageId": "raw"
    }
   },
   "source": [
    "## Download sample data\n",
    "\n",
    "We'll use the same dataset as the Mask R-CNN example for consistency."
   ]
  },
  {
   "cell_type": "code",
   "execution_count": 3,
   "metadata": {},
   "outputs": [],
   "source": [
    "train_raster_path = r\"data\\POC5\\Roi_Jun16.tif\"\n",
    "train_vector_path = r\"data\\POC5\\Labels.geojson\""
   ]
  },
  {
   "cell_type": "markdown",
   "metadata": {
    "vscode": {
     "languageId": "raw"
    }
   },
   "source": [
    "## Visualize sample data"
   ]
  },
  {
   "cell_type": "code",
   "execution_count": null,
   "metadata": {},
   "outputs": [],
   "source": [
    "geoai.get_raster_info(train_raster_path)"
   ]
  },
  {
   "cell_type": "code",
   "execution_count": null,
   "metadata": {},
   "outputs": [],
   "source": [
    "geoai.view_vector_interactive(train_vector_path, tiles=train_raster_url)"
   ]
  },
  {
   "cell_type": "code",
   "execution_count": null,
   "metadata": {},
   "outputs": [],
   "source": [
    "geoai.view_raster(test_raster_url)"
   ]
  },
  {
   "cell_type": "markdown",
   "metadata": {
    "vscode": {
     "languageId": "raw"
    }
   },
   "source": [
    "## Create training data\n",
    "\n",
    "We'll create the same training tiles as before."
   ]
  },
  {
   "cell_type": "code",
   "execution_count": 3,
   "metadata": {},
   "outputs": [],
   "source": [
    "out_folder = \"results\\POC5\\semantic\"\n",
    "# tiles = geoai.export_geotiff_tiles(\n",
    "#     in_raster=train_raster_path,\n",
    "#     out_folder=out_folder,\n",
    "#     in_class_data=train_vector_path,\n",
    "#     tile_size=800,\n",
    "#     stride=400,\n",
    "#     buffer_radius=0,\n",
    "# )"
   ]
  },
  {
   "cell_type": "markdown",
   "metadata": {
    "vscode": {
     "languageId": "raw"
    }
   },
   "source": [
    "## Train semantic segmentation model\n",
    "\n",
    "Now we'll train a semantic segmentation model using the new `train_segmentation_model` function. This function supports various architectures from `segmentation-models-pytorch`:\n",
    "\n",
    "- **Architectures**: `unet`, `unetplusplus` `deeplabv3`, `deeplabv3plus`, `fpn`, `pspnet`, `linknet`, `manet`\n",
    "- **Encoders**: `resnet34`, `resnet50`, `efficientnet-b0`, `mobilenet_v2`, etc.\n",
    "\n",
    "For more details, please refer to the [segmentation-models-pytorch documentation](https://smp.readthedocs.io/en/latest/models.html).\n",
    "\n",
    "### Example 1: U-Net with ResNet34 encoder\n"
   ]
  },
  {
   "cell_type": "code",
   "execution_count": null,
   "metadata": {},
   "outputs": [],
   "source": [
    "# Train U-Net model\n",
    "geoai.train_segmentation_model(\n",
    "    images_dir=f\"{out_folder}/images\",\n",
    "    labels_dir=f\"{out_folder}/labels\",\n",
    "    output_dir=f\"{out_folder}/unet_models\",\n",
    "    architecture=\"unet\",\n",
    "    encoder_name=\"resnet34\",\n",
    "    encoder_weights=\"imagenet\",\n",
    "    num_channels=3,\n",
    "    num_classes=2,  # background and building\n",
    "    batch_size=8,\n",
    "    num_epochs=100,\n",
    "    learning_rate=0.001,\n",
    "    val_split=0.2,\n",
    "    verbose=True,\n",
    ")"
   ]
  },
  {
   "cell_type": "markdown",
   "metadata": {
    "vscode": {
     "languageId": "raw"
    }
   },
   "source": [
    "### Example 2: SegFormer with resnet152 encoder"
   ]
  },
  {
   "cell_type": "code",
   "execution_count": null,
   "metadata": {},
   "outputs": [],
   "source": [
    "geoai.train_segmentation_model(\n",
    "    images_dir=f\"{out_folder}/images\",\n",
    "    labels_dir=f\"{out_folder}/labels\",\n",
    "    output_dir=f\"{out_folder}/segformer_models\",\n",
    "    architecture=\"segformer\",\n",
    "    encoder_name=\"resnet152\",\n",
    "    encoder_weights=\"imagenet\",\n",
    "    num_channels=3,\n",
    "    num_classes=2,\n",
    "    batch_size=6,  # Smaller batch size for more complex model\n",
    "    num_epochs=50,\n",
    "    learning_rate=0.0005,\n",
    "    val_split=0.2,\n",
    ")"
   ]
  },
  {
   "cell_type": "markdown",
   "metadata": {
    "vscode": {
     "languageId": "raw"
    }
   },
   "source": [
    "## Run inference\n",
    "\n",
    "Now we'll use the trained model to make predictions on the test image."
   ]
  },
  {
   "cell_type": "code",
   "execution_count": 16,
   "metadata": {},
   "outputs": [],
   "source": [
    "# Define paths\n",
    "out_folder = r\"results\\POC5\\semantic\"\n",
    "test_raster_path = r\"data\\POC3\\Test3_Jun16.tif\"\n",
    "masks_path = r\"results\\POC5\\100Epochs_unet\\Test3_Jun16_100unet_prediction.tif\"\n",
    "model_path = f\"{out_folder}/unet_models/best_model.pth\""
   ]
  },
  {
   "cell_type": "code",
   "execution_count": 17,
   "metadata": {},
   "outputs": [
    {
     "name": "stdout",
     "output_type": "stream",
     "text": [
      "Processing 100 windows...\n"
     ]
    },
    {
     "name": "stderr",
     "output_type": "stream",
     "text": [
      "121it [01:32,  1.30it/s]                         \n"
     ]
    },
    {
     "name": "stdout",
     "output_type": "stream",
     "text": [
      "Predicted classes: 2 classes, Background: 76.7%\n",
      "Inference completed in 94.29 seconds\n",
      "Saved prediction to results\\POC5\\100Epochs_unet\\Test3_Jun16_100unet_prediction.tif\n"
     ]
    }
   ],
   "source": [
    "# Run semantic segmentation inference\n",
    "geoai.semantic_segmentation(\n",
    "    input_path=test_raster_path,\n",
    "    output_path=masks_path,\n",
    "    model_path=model_path,\n",
    "    architecture=\"unet\",\n",
    "    encoder_name=\"resnet34\",\n",
    "    num_channels=3,\n",
    "    num_classes=2,\n",
    "    window_size=800,\n",
    "    overlap=400,\n",
    "    batch_size=4,\n",
    ")"
   ]
  },
  {
   "cell_type": "markdown",
   "metadata": {
    "vscode": {
     "languageId": "raw"
    }
   },
   "source": [
    "## Vectorize masks\n",
    "\n",
    "Convert the predicted mask to vector format for better visualization and analysis."
   ]
  },
  {
   "cell_type": "code",
   "execution_count": 18,
   "metadata": {},
   "outputs": [
    {
     "name": "stdout",
     "output_type": "stream",
     "text": [
      "Processing 940 features...\n"
     ]
    },
    {
     "name": "stderr",
     "output_type": "stream",
     "text": [
      "Converting features: 100%|██████████| 940/940 [00:09<00:00, 96.16shape/s] \n"
     ]
    },
    {
     "name": "stdout",
     "output_type": "stream",
     "text": [
      "Saving to results\\POC5\\100Epochs_unet\\Test3_Jun16_100unet_prediction.geojson...\n",
      "Done!\n"
     ]
    }
   ],
   "source": [
    "output_vector_path = r\"results\\POC5\\100Epochs_unet\\Test3_Jun16_100unet_prediction.geojson\"\n",
    "gdf = geoai.orthogonalize(masks_path, output_vector_path, epsilon=2)"
   ]
  },
  {
   "cell_type": "markdown",
   "metadata": {},
   "source": [
    "## Add geometric properties"
   ]
  },
  {
   "cell_type": "code",
   "execution_count": null,
   "metadata": {},
   "outputs": [],
   "source": [
    "gdf_props = geoai.add_geometric_properties(gdf, area_unit=\"m2\", length_unit=\"m\")"
   ]
  },
  {
   "cell_type": "markdown",
   "metadata": {
    "vscode": {
     "languageId": "raw"
    }
   },
   "source": [
    "## Visualize results"
   ]
  },
  {
   "cell_type": "code",
   "execution_count": null,
   "metadata": {},
   "outputs": [],
   "source": [
    "geoai.view_raster(masks_path, nodata=0, basemap=test_raster_url, backend=\"ipyleaflet\")"
   ]
  },
  {
   "cell_type": "code",
   "execution_count": null,
   "metadata": {},
   "outputs": [],
   "source": [
    "geoai.view_vector_interactive(gdf_props, column=\"area_m2\", tiles=test_raster_url)"
   ]
  },
  {
   "cell_type": "code",
   "execution_count": null,
   "metadata": {},
   "outputs": [],
   "source": [
    "gdf_filtered = gdf_props[(gdf_props[\"area_m2\"] > 50)]"
   ]
  },
  {
   "cell_type": "code",
   "execution_count": null,
   "metadata": {},
   "outputs": [],
   "source": [
    "geoai.view_vector_interactive(gdf_filtered, column=\"area_m2\", tiles=test_raster_url)"
   ]
  },
  {
   "cell_type": "code",
   "execution_count": null,
   "metadata": {},
   "outputs": [],
   "source": [
    "geoai.create_split_map(\n",
    "    left_layer=gdf_filtered,\n",
    "    right_layer=test_raster_url,\n",
    "    left_args={\"style\": {\"color\": \"red\", \"fillOpacity\": 0.2}},\n",
    "    basemap=test_raster_url,\n",
    ")"
   ]
  },
  {
   "cell_type": "markdown",
   "metadata": {
    "vscode": {
     "languageId": "raw"
    }
   },
   "source": [
    "## Model Performance Analysis\n",
    "\n",
    "Let's examine the training curves and model performance:"
   ]
  },
  {
   "cell_type": "code",
   "execution_count": null,
   "metadata": {},
   "outputs": [],
   "source": []
  },
  {
   "cell_type": "code",
   "execution_count": 9,
   "metadata": {},
   "outputs": [
    {
     "data": {
      "image/png": "[encoded data removed]",
      "text/plain": [
       "<Figure size 1500x500 with 3 Axes>"
      ]
     },
     "metadata": {},
     "output_type": "display_data"
    },
    {
     "name": "stdout",
     "output_type": "stream",
     "text": [
      "Best IoU: 0.9574\n",
      "Best Dice: 0.9766\n",
      "Final IoU: 0.9569\n",
      "Final Dice: 0.9761\n"
     ]
    }
   ],
   "source": [
    "geoai.plot_performance_metrics(\n",
    "    history_path=f\"{out_folder}/unet_models/training_history.pth\",\n",
    "    figsize=(15, 5),\n",
    "    verbose=True,\n",
    ")"
   ]
  },
  {
   "cell_type": "markdown",
   "metadata": {},
   "source": [
    "![image](https://github.com/user-attachments/assets/9355446f-f9ba-4818-aedb-4bb5dee56813)"
   ]
  },
  {
   "cell_type": "markdown",
   "metadata": {},
   "source": [
    "## Performance Metrics\n",
    "\n",
    "**IoU (Intersection over Union)** and **Dice score** are both popular metrics used to evaluate the similarity between two binary masks—often in image segmentation tasks. While they are related, they are not the same.\n",
    "\n",
    "---\n",
    "\n",
    "### 🔸 **Definitions**\n",
    "\n",
    "#### **IoU (Jaccard Index)**\n",
    "\n",
    "$$\n",
    "\\text{IoU} = \\frac{|A \\cap B|}{|A \\cup B|}\n",
    "$$\n",
    "\n",
    "* Measures the overlap between predicted region $A$ and ground truth region $B$ relative to their union.\n",
    "* Ranges from 0 (no overlap) to 1 (perfect overlap).\n",
    "\n",
    "#### **Dice Score (F1 Score for Sets)**\n",
    "\n",
    "$$\n",
    "\\text{Dice} = \\frac{2|A \\cap B|}{|A| + |B|}\n",
    "$$\n",
    "\n",
    "* Measures the overlap between $A$ and $B$, but gives more weight to the intersection.\n",
    "* Also ranges from 0 to 1.\n",
    "\n",
    "---\n",
    "\n",
    "### 🔸 **Key Differences**\n",
    "\n",
    "| Metric   | Formula                     | Penalizes                      | Sensitivity                      |\n",
    "| -------- | --------------------------- | ------------------------------ | -------------------------------- |\n",
    "| **IoU**  | $\\frac{TP}{TP + FP + FN}$   | FP and FN equally              | Less sensitive to small objects  |\n",
    "| **Dice** | $\\frac{2TP}{2TP + FP + FN}$ | Less harsh on small mismatches | More sensitive to small overlaps |\n",
    "\n",
    "> TP: True Positive, FP: False Positive, FN: False Negative\n",
    "\n",
    "---\n",
    "\n",
    "### 🔸 **Relationship**\n",
    "\n",
    "Dice and IoU are mathematically related:\n",
    "\n",
    "$$\n",
    "\\text{Dice} = \\frac{2 \\cdot \\text{IoU}}{1 + \\text{IoU}} \\quad \\text{or} \\quad \\text{IoU} = \\frac{\\text{Dice}}{2 - \\text{Dice}}\n",
    "$$\n",
    "\n",
    "---\n",
    "\n",
    "### 🔸 **When to Use What**\n",
    "\n",
    "* **IoU**: Common in object detection and semantic segmentation benchmarks (e.g., COCO, Pascal VOC).\n",
    "* **Dice**: Preferred in medical imaging and when class imbalance is an issue, due to its sensitivity to small regions."
   ]
  }
 ],
 "metadata": {
  "kernelspec": {
   "display_name": ".envs",
   "language": "python",
   "name": "python3"
  },
  "language_info": {
   "codemirror_mode": {
    "name": "ipython",
    "version": 3
   },
   "file_extension": ".py",
   "mimetype": "text/x-python",
   "name": "python",
   "nbconvert_exporter": "python",
   "pygments_lexer": "ipython3",
   "version": "3.12.10"
  }
 },
 "nbformat": 4,
 "nbformat_minor": 4
}
