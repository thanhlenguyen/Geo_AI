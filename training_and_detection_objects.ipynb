{
 "cells": [
  {
   "cell_type": "markdown",
   "metadata": {},
   "source": [
    "# Training and Detecting Object with GeoAI\n",
    "\n",
    "\n",
    "## Install package\n",
    "To use the `geoai-py` package, ensure it is installed in your environment. Uncomment the command below if needed."
   ]
  },
  {
   "cell_type": "code",
   "execution_count": null,
   "metadata": {},
   "outputs": [],
   "source": [
    "%pip install geoai-py segment-geospatial"
   ]
  },
  {
   "cell_type": "markdown",
   "metadata": {},
   "source": [
    "## Import libraries"
   ]
  },
  {
   "cell_type": "code",
   "execution_count": 1,
   "metadata": {},
   "outputs": [],
   "source": [
    "import geoai\n",
    "import leafmap\n",
    "from samgeo import tms_to_geotiff, split_raster"
   ]
  },
  {
   "cell_type": "markdown",
   "metadata": {},
   "source": [
    "## Download satellite\n",
    "\n",
    "Create an interactive map"
   ]
  },
  {
   "cell_type": "code",
   "execution_count": 3,
   "metadata": {},
   "outputs": [
    {
     "data": {
      "application/vnd.jupyter.widget-view+json": {
       "model_id": "4b28ed0c09704a2799dc247e10e44f24",
       "version_major": 2,
       "version_minor": 0
      },
      "text/plain": [
       "Map(center=[24.699273257355753, 46.68045811333872], controls=(ZoomControl(options=['position', 'zoom_in_text',…"
      ]
     },
     "execution_count": 3,
     "metadata": {},
     "output_type": "execute_result"
    }
   ],
   "source": [
    "m = leafmap.Map(center=[24.699273257355753, 46.68045811333872], zoom=17, height=\"800px\")\n",
    "m.add_basemap(\"SATELLITE\")\n",
    "m"
   ]
  },
  {
   "cell_type": "markdown",
   "metadata": {},
   "source": [
    "Create boundingbox and download image"
   ]
  },
  {
   "cell_type": "code",
   "execution_count": 4,
   "metadata": {},
   "outputs": [
    {
     "data": {
      "text/plain": [
       "{'type': 'Feature',\n",
       " 'properties': {},\n",
       " 'geometry': {'type': 'Polygon',\n",
       "  'coordinates': [[[39.815526, 21.435373],\n",
       "    [39.815526, 21.441105],\n",
       "    [39.824131, 21.441105],\n",
       "    [39.824131, 21.435373],\n",
       "    [39.815526, 21.435373]]]}}"
      ]
     },
     "execution_count": 4,
     "metadata": {},
     "output_type": "execute_result"
    }
   ],
   "source": [
    "m.user_roi"
   ]
  },
  {
   "cell_type": "code",
   "execution_count": 5,
   "metadata": {},
   "outputs": [
    {
     "name": "stdout",
     "output_type": "stream",
     "text": [
      "Downloaded image 1/140\n",
      "Downloaded image 2/140\n",
      "Downloaded image 3/140\n",
      "Downloaded image 4/140\n",
      "Downloaded image 5/140\n",
      "Downloaded image 6/140\n",
      "Downloaded image 7/140\n",
      "Downloaded image 8/140\n",
      "Downloaded image 9/140\n",
      "Downloaded image 10/140\n",
      "Downloaded image 11/140\n",
      "Downloaded image 12/140\n",
      "Downloaded image 13/140\n",
      "Downloaded image 14/140\n",
      "Downloaded image 15/140\n",
      "Downloaded image 16/140\n",
      "Downloaded image 17/140\n",
      "Downloaded image 18/140\n",
      "Downloaded image 19/140\n",
      "Downloaded image 20/140\n",
      "Downloaded image 21/140\n",
      "Downloaded image 22/140\n",
      "Downloaded image 23/140\n",
      "Downloaded image 24/140\n",
      "Downloaded image 25/140\n",
      "Downloaded image 26/140\n",
      "Downloaded image 27/140\n",
      "Downloaded image 28/140\n",
      "Downloaded image 29/140\n",
      "Downloaded image 30/140\n",
      "Downloaded image 31/140\n",
      "Downloaded image 32/140\n",
      "Downloaded image 33/140\n",
      "Downloaded image 34/140\n",
      "Downloaded image 35/140\n",
      "Downloaded image 36/140\n",
      "Downloaded image 37/140\n",
      "Downloaded image 38/140\n",
      "Downloaded image 39/140\n",
      "Downloaded image 40/140\n",
      "Downloaded image 41/140\n",
      "Downloaded image 42/140\n",
      "Downloaded image 43/140\n",
      "Downloaded image 44/140\n",
      "Downloaded image 45/140\n",
      "Downloaded image 46/140\n",
      "Downloaded image 47/140\n",
      "Downloaded image 48/140\n",
      "Downloaded image 49/140\n",
      "Downloaded image 50/140\n",
      "Downloaded image 51/140\n",
      "Downloaded image 52/140\n",
      "Downloaded image 53/140\n",
      "Downloaded image 54/140\n",
      "Downloaded image 55/140\n",
      "Downloaded image 56/140\n",
      "Downloaded image 57/140\n",
      "Downloaded image 58/140\n",
      "Downloaded image 59/140\n",
      "Downloaded image 60/140\n",
      "Downloaded image 61/140\n",
      "Downloaded image 62/140\n",
      "Downloaded image 63/140\n",
      "Downloaded image 64/140\n",
      "Downloaded image 65/140\n",
      "Downloaded image 66/140\n",
      "Downloaded image 67/140\n",
      "Downloaded image 68/140\n",
      "Downloaded image 69/140\n",
      "Downloaded image 70/140\n",
      "Downloaded image 71/140\n",
      "Downloaded image 72/140\n",
      "Downloaded image 73/140\n",
      "Downloaded image 74/140\n",
      "Downloaded image 75/140\n",
      "Downloaded image 76/140\n",
      "Downloaded image 77/140\n",
      "Downloaded image 78/140\n",
      "Downloaded image 79/140\n",
      "Downloaded image 80/140\n",
      "Downloaded image 81/140\n",
      "Downloaded image 82/140\n",
      "Downloaded image 83/140\n",
      "Downloaded image 84/140\n",
      "Downloaded image 85/140\n",
      "Downloaded image 86/140\n",
      "Downloaded image 87/140\n",
      "Downloaded image 88/140\n",
      "Downloaded image 89/140\n",
      "Downloaded image 90/140\n",
      "Downloaded image 91/140\n",
      "Downloaded image 92/140\n",
      "Downloaded image 93/140\n",
      "Downloaded image 94/140\n",
      "Downloaded image 95/140\n",
      "Downloaded image 96/140\n",
      "Downloaded image 97/140\n",
      "Downloaded image 98/140\n",
      "Downloaded image 99/140\n",
      "Downloaded image 100/140\n",
      "Downloaded image 101/140\n",
      "Downloaded image 102/140\n",
      "Downloaded image 103/140\n",
      "Downloaded image 104/140\n",
      "Downloaded image 105/140\n",
      "Downloaded image 106/140\n",
      "Downloaded image 107/140\n",
      "Downloaded image 108/140\n",
      "Downloaded image 109/140\n",
      "Downloaded image 110/140\n",
      "Downloaded image 111/140\n",
      "Downloaded image 112/140\n",
      "Downloaded image 113/140\n",
      "Downloaded image 114/140\n",
      "Downloaded image 115/140\n",
      "Downloaded image 116/140\n",
      "Downloaded image 117/140\n",
      "Downloaded image 118/140\n",
      "Downloaded image 119/140\n",
      "Downloaded image 120/140\n",
      "Downloaded image 121/140\n",
      "Downloaded image 122/140\n",
      "Downloaded image 123/140\n",
      "Downloaded image 124/140\n",
      "Downloaded image 125/140\n",
      "Downloaded image 126/140\n",
      "Downloaded image 127/140\n",
      "Downloaded image 128/140\n",
      "Downloaded image 129/140\n",
      "Downloaded image 130/140\n",
      "Downloaded image 131/140\n",
      "Downloaded image 132/140\n",
      "Downloaded image 133/140\n",
      "Downloaded image 134/140\n",
      "Downloaded image 135/140\n",
      "Downloaded image 136/140\n",
      "Downloaded image 137/140\n",
      "Downloaded image 138/140\n",
      "Downloaded image 139/140\n",
      "Downloaded image 140/140\n",
      "Saving GeoTIFF. Please wait...\n",
      "Image saved to data\\Satellite\\Makkah.tif\n"
     ]
    }
   ],
   "source": [
    "bbox = m.user_roi_bounds()\n",
    "if bbox is None:\n",
    "    bbox = [46.66867, 24.70191, 46.68044, 24.6916]\n",
    "\n",
    "image = \"data\\Satellite\\Makkah.tif\"\n",
    "# tms_to_geotiff(output=image, bbox=bbox, zoom=21, source=\"Satellite\", overwrite=True)   \n",
    "leafmap.map_tiles_to_geotiff(\n",
    "    output=image, bbox=bbox, zoom=19, source=\"Satellite\", overwrite=True\n",
    ") "
   ]
  },
  {
   "cell_type": "markdown",
   "metadata": {},
   "source": [
    "## Load training data"
   ]
  },
  {
   "cell_type": "code",
   "execution_count": 6,
   "metadata": {},
   "outputs": [],
   "source": [
    "train_raster_path = r\"data\\POC3\\Roi_Jun16.tif\"\n",
    "train_vector_path = r\"data\\POC3\\Labels50.geojson\""
   ]
  },
  {
   "cell_type": "markdown",
   "metadata": {},
   "source": [
    "## Visualize sample data"
   ]
  },
  {
   "cell_type": "code",
   "execution_count": null,
   "metadata": {},
   "outputs": [],
   "source": [
    "geoai.view_vector_interactive(train_vector_path, tiles=train_raster_path)"
   ]
  },
  {
   "cell_type": "markdown",
   "metadata": {},
   "source": [
    "## Create training data"
   ]
  },
  {
   "cell_type": "code",
   "execution_count": null,
   "metadata": {},
   "outputs": [],
   "source": [
    "out_folder = r\"results\\Satellite\\output\"\n",
    "tiles = geoai.export_geotiff_tiles(\n",
    "    in_raster=train_raster_path,\n",
    "    out_folder=out_folder,\n",
    "    in_class_data=train_vector_path,\n",
    "    tile_size=800,\n",
    "    stride=400,\n",
    "    buffer_radius=0,\n",
    ")"
   ]
  },
  {
   "cell_type": "markdown",
   "metadata": {},
   "source": [
    "## Train object detection model"
   ]
  },
  {
   "cell_type": "code",
   "execution_count": null,
   "metadata": {},
   "outputs": [],
   "source": [
    "geoai.train_MaskRCNN_model(\n",
    "    images_dir=f\"{out_folder}/images\",\n",
    "    labels_dir=f\"{out_folder}/labels\",\n",
    "    output_dir=f\"{out_folder}/models20\",\n",
    "    num_channels=3,\n",
    "    pretrained=True,\n",
    "    batch_size=4,\n",
    "    num_epochs=20,\n",
    "    learning_rate=0.005,\n",
    "    val_split=0.2,\n",
    ")"
   ]
  },
  {
   "cell_type": "markdown",
   "metadata": {},
   "source": [
    "## Run inference"
   ]
  },
  {
   "cell_type": "code",
   "execution_count": 10,
   "metadata": {},
   "outputs": [],
   "source": [
    "out_folder = r\"results\\Hung\"\n",
    "test_raster_path = r\"data\\Satellite\\Makkah.tif\"\n",
    "masks_path = r\"results\\Hung\\Makkak_Satellite_Conf_07_prediction.tif\"\n",
    "model_path = f\"{out_folder}/best_model.pth\""
   ]
  },
  {
   "cell_type": "code",
   "execution_count": 7,
   "metadata": {},
   "outputs": [
    {
     "data": {
      "text/html": [
       "<iframe srcdoc=\"&lt;!DOCTYPE html&gt;\n",
       "&lt;html&gt;\n",
       "&lt;head&gt;\n",
       "    \n",
       "    &lt;meta http-equiv=&quot;content-type&quot; content=&quot;text/html; charset=UTF-8&quot; /&gt;\n",
       "    &lt;script src=&quot;https://cdn.jsdelivr.net/npm/leaflet@1.9.3/dist/leaflet.js&quot;&gt;&lt;/script&gt;\n",
       "    &lt;script src=&quot;https://code.jquery.com/jquery-3.7.1.min.js&quot;&gt;&lt;/script&gt;\n",
       "    &lt;script src=&quot;https://cdn.jsdelivr.net/npm/bootstrap@5.2.2/dist/js/bootstrap.bundle.min.js&quot;&gt;&lt;/script&gt;\n",
       "    &lt;script src=&quot;https://cdnjs.cloudflare.com/ajax/libs/Leaflet.awesome-markers/2.0.2/leaflet.awesome-markers.js&quot;&gt;&lt;/script&gt;\n",
       "    &lt;link rel=&quot;stylesheet&quot; href=&quot;https://cdn.jsdelivr.net/npm/leaflet@1.9.3/dist/leaflet.css&quot;/&gt;\n",
       "    &lt;link rel=&quot;stylesheet&quot; href=&quot;https://cdn.jsdelivr.net/npm/bootstrap@5.2.2/dist/css/bootstrap.min.css&quot;/&gt;\n",
       "    &lt;link rel=&quot;stylesheet&quot; href=&quot;https://netdna.bootstrapcdn.com/bootstrap/3.0.0/css/bootstrap-glyphicons.css&quot;/&gt;\n",
       "    &lt;link rel=&quot;stylesheet&quot; href=&quot;https://cdn.jsdelivr.net/npm/@fortawesome/fontawesome-free@6.2.0/css/all.min.css&quot;/&gt;\n",
       "    &lt;link rel=&quot;stylesheet&quot; href=&quot;https://cdnjs.cloudflare.com/ajax/libs/Leaflet.awesome-markers/2.0.2/leaflet.awesome-markers.css&quot;/&gt;\n",
       "    &lt;link rel=&quot;stylesheet&quot; href=&quot;https://cdn.jsdelivr.net/gh/python-visualization/folium/folium/templates/leaflet.awesome.rotate.min.css&quot;/&gt;\n",
       "    \n",
       "            &lt;meta name=&quot;viewport&quot; content=&quot;width=device-width,\n",
       "                initial-scale=1.0, maximum-scale=1.0, user-scalable=no&quot; /&gt;\n",
       "            &lt;style&gt;\n",
       "                #map_bad4b827442994b18212ed5bd0ca3508 {\n",
       "                    position: relative;\n",
       "                    width: 100.0%;\n",
       "                    height: 100.0%;\n",
       "                    left: 0.0%;\n",
       "                    top: 0.0%;\n",
       "                }\n",
       "                .leaflet-container { font-size: 1rem; }\n",
       "            &lt;/style&gt;\n",
       "\n",
       "            &lt;style&gt;html, body {\n",
       "                width: 100%;\n",
       "                height: 100%;\n",
       "                margin: 0;\n",
       "                padding: 0;\n",
       "            }\n",
       "            &lt;/style&gt;\n",
       "\n",
       "            &lt;style&gt;#map {\n",
       "                position:absolute;\n",
       "                top:0;\n",
       "                bottom:0;\n",
       "                right:0;\n",
       "                left:0;\n",
       "                }\n",
       "            &lt;/style&gt;\n",
       "\n",
       "            &lt;script&gt;\n",
       "                L_NO_TOUCH = false;\n",
       "                L_DISABLE_3D = false;\n",
       "            &lt;/script&gt;\n",
       "\n",
       "        \n",
       "    &lt;script src=&quot;https://cdn.jsdelivr.net/npm/leaflet.fullscreen@3.0.0/Control.FullScreen.min.js&quot;&gt;&lt;/script&gt;\n",
       "    &lt;link rel=&quot;stylesheet&quot; href=&quot;https://cdn.jsdelivr.net/npm/leaflet.fullscreen@3.0.0/Control.FullScreen.css&quot;/&gt;\n",
       "    &lt;script src=&quot;https://unpkg.com/leaflet-control-geocoder/dist/Control.Geocoder.js&quot;&gt;&lt;/script&gt;\n",
       "    &lt;link rel=&quot;stylesheet&quot; href=&quot;https://unpkg.com/leaflet-control-geocoder/dist/Control.Geocoder.css&quot;/&gt;\n",
       "&lt;/head&gt;\n",
       "&lt;body&gt;\n",
       "    \n",
       "    \n",
       "            &lt;div class=&quot;folium-map&quot; id=&quot;map_bad4b827442994b18212ed5bd0ca3508&quot; &gt;&lt;/div&gt;\n",
       "        \n",
       "&lt;/body&gt;\n",
       "&lt;script&gt;\n",
       "    \n",
       "    \n",
       "            var map_bad4b827442994b18212ed5bd0ca3508 = L.map(\n",
       "                &quot;map_bad4b827442994b18212ed5bd0ca3508&quot;,\n",
       "                {\n",
       "                    center: [20.0, 0.0],\n",
       "                    crs: L.CRS.EPSG3857,\n",
       "                    ...{\n",
       "  &quot;zoom&quot;: 2,\n",
       "  &quot;zoomControl&quot;: true,\n",
       "  &quot;preferCanvas&quot;: false,\n",
       "  &quot;drawExport&quot;: false,\n",
       "  &quot;layersControl&quot;: true,\n",
       "}\n",
       "\n",
       "                }\n",
       "            );\n",
       "            L.control.scale().addTo(map_bad4b827442994b18212ed5bd0ca3508);\n",
       "\n",
       "            \n",
       "\n",
       "        \n",
       "    \n",
       "            var tile_layer_3462073041235b1f32674720c2e79e1b = L.tileLayer(\n",
       "                &quot;https://tile.openstreetmap.org/{z}/{x}/{y}.png&quot;,\n",
       "                {\n",
       "  &quot;minZoom&quot;: 0,\n",
       "  &quot;maxZoom&quot;: 24,\n",
       "  &quot;maxNativeZoom&quot;: 24,\n",
       "  &quot;noWrap&quot;: false,\n",
       "  &quot;attribution&quot;: &quot;\\u0026copy; \\u003ca href=\\&quot;https://www.openstreetmap.org/copyright\\&quot;\\u003eOpenStreetMap\\u003c/a\\u003e contributors&quot;,\n",
       "  &quot;subdomains&quot;: &quot;abc&quot;,\n",
       "  &quot;detectRetina&quot;: false,\n",
       "  &quot;tms&quot;: false,\n",
       "  &quot;opacity&quot;: 1,\n",
       "}\n",
       "\n",
       "            );\n",
       "        \n",
       "    \n",
       "            tile_layer_3462073041235b1f32674720c2e79e1b.addTo(map_bad4b827442994b18212ed5bd0ca3508);\n",
       "        \n",
       "    \n",
       "            L.control.fullscreen(\n",
       "                {\n",
       "  &quot;position&quot;: &quot;topleft&quot;,\n",
       "  &quot;title&quot;: &quot;Full Screen&quot;,\n",
       "  &quot;titleCancel&quot;: &quot;Exit Full Screen&quot;,\n",
       "  &quot;forceSeparateButton&quot;: false,\n",
       "}\n",
       "            ).addTo(map_bad4b827442994b18212ed5bd0ca3508);\n",
       "        \n",
       "    \n",
       "\n",
       "            var geocoderOpts_geocoder_a60a75732b32d85e06af98ce91cd432f = {\n",
       "  &quot;collapsed&quot;: true,\n",
       "  &quot;position&quot;: &quot;topleft&quot;,\n",
       "  &quot;defaultMarkGeocode&quot;: true,\n",
       "  &quot;zoom&quot;: 11,\n",
       "  &quot;provider&quot;: &quot;nominatim&quot;,\n",
       "  &quot;providerOptions&quot;: {\n",
       "},\n",
       "};\n",
       "\n",
       "            // note: geocoder name should start with lowercase\n",
       "            var geocoderName_geocoder_a60a75732b32d85e06af98ce91cd432f = geocoderOpts_geocoder_a60a75732b32d85e06af98ce91cd432f[&quot;provider&quot;];\n",
       "\n",
       "            var customGeocoder_geocoder_a60a75732b32d85e06af98ce91cd432f = L.Control.Geocoder[ geocoderName_geocoder_a60a75732b32d85e06af98ce91cd432f ](\n",
       "                geocoderOpts_geocoder_a60a75732b32d85e06af98ce91cd432f[&#x27;providerOptions&#x27;]\n",
       "            );\n",
       "            geocoderOpts_geocoder_a60a75732b32d85e06af98ce91cd432f[&quot;geocoder&quot;] = customGeocoder_geocoder_a60a75732b32d85e06af98ce91cd432f;\n",
       "\n",
       "            L.Control.geocoder(\n",
       "                geocoderOpts_geocoder_a60a75732b32d85e06af98ce91cd432f\n",
       "            ).on(&#x27;markgeocode&#x27;, function(e) {\n",
       "                var zoom = geocoderOpts_geocoder_a60a75732b32d85e06af98ce91cd432f[&#x27;zoom&#x27;] || map_bad4b827442994b18212ed5bd0ca3508.getZoom();\n",
       "                map_bad4b827442994b18212ed5bd0ca3508.setView(e.geocode.center, zoom);\n",
       "            }).addTo(map_bad4b827442994b18212ed5bd0ca3508);\n",
       "\n",
       "        \n",
       "    \n",
       "            map_bad4b827442994b18212ed5bd0ca3508.fitBounds(\n",
       "                [[20, 0], [20, 0]],\n",
       "                {&quot;maxZoom&quot;: 2}\n",
       "            );\n",
       "        \n",
       "    \n",
       "            var tile_layer_e08956b064af0335162cf8975aa5e581 = L.tileLayer(\n",
       "                &quot;http://localhost:56798/api/tiles/{z}/{x}/{y}.png?\\u0026filename=d%3A%5CGit%5CGeo_AI%5Cdata%5CSatellite%5CMakkah.tif&quot;,\n",
       "                {\n",
       "  &quot;minZoom&quot;: 0,\n",
       "  &quot;maxZoom&quot;: 30,\n",
       "  &quot;maxNativeZoom&quot;: 30,\n",
       "  &quot;noWrap&quot;: false,\n",
       "  &quot;attribution&quot;: &quot;Raster file served by \\u003ca href=\\u0027https://github.com/banesullivan/localtileserver\\u0027 target=\\u0027_blank\\u0027\\u003elocaltileserver\\u003c/a\\u003e.&quot;,\n",
       "  &quot;subdomains&quot;: &quot;abc&quot;,\n",
       "  &quot;detectRetina&quot;: false,\n",
       "  &quot;tms&quot;: false,\n",
       "  &quot;opacity&quot;: 1.0,\n",
       "  &quot;bounds&quot;: [[21.4354, 39.8155], [21.4411, 39.8241]],\n",
       "  &quot;zoomToLayer&quot;: true,\n",
       "  &quot;visible&quot;: true,\n",
       "  &quot;corsAll&quot;: false,\n",
       "}\n",
       "\n",
       "            );\n",
       "        \n",
       "    \n",
       "            tile_layer_e08956b064af0335162cf8975aa5e581.addTo(map_bad4b827442994b18212ed5bd0ca3508);\n",
       "        \n",
       "    \n",
       "            map_bad4b827442994b18212ed5bd0ca3508.fitBounds(\n",
       "                [[21.4354, 39.8155], [21.4411, 39.8241]],\n",
       "                {}\n",
       "            );\n",
       "        \n",
       "    \n",
       "            var layer_control_777107799ab8b0d0c805784f5317305e_layers = {\n",
       "                base_layers : {\n",
       "                    &quot;openstreetmap&quot; : tile_layer_3462073041235b1f32674720c2e79e1b,\n",
       "                },\n",
       "                overlays :  {\n",
       "                    &quot;Raster&quot; : tile_layer_e08956b064af0335162cf8975aa5e581,\n",
       "                },\n",
       "            };\n",
       "            let layer_control_777107799ab8b0d0c805784f5317305e = L.control.layers(\n",
       "                layer_control_777107799ab8b0d0c805784f5317305e_layers.base_layers,\n",
       "                layer_control_777107799ab8b0d0c805784f5317305e_layers.overlays,\n",
       "                {\n",
       "  &quot;position&quot;: &quot;topright&quot;,\n",
       "  &quot;collapsed&quot;: true,\n",
       "  &quot;autoZIndex&quot;: true,\n",
       "}\n",
       "            ).addTo(map_bad4b827442994b18212ed5bd0ca3508);\n",
       "\n",
       "        \n",
       "&lt;/script&gt;\n",
       "&lt;/html&gt;\" width=\"100%\" height=\"600\"style=\"border:none !important;\" \"allowfullscreen\" \"webkitallowfullscreen\" \"mozallowfullscreen\"></iframe>"
      ],
      "text/plain": [
       "<leafmap.foliumap.Map at 0x164b869b140>"
      ]
     },
     "execution_count": 7,
     "metadata": {},
     "output_type": "execute_result"
    }
   ],
   "source": [
    "geoai.view_raster(test_raster_path)"
   ]
  },
  {
   "cell_type": "code",
   "execution_count": 11,
   "metadata": {},
   "outputs": [
    {
     "name": "stdout",
     "output_type": "stream",
     "text": [
      "Processing 40 windows with size 800x800 and overlap 400...\n"
     ]
    },
    {
     "name": "stderr",
     "output_type": "stream",
     "text": [
      "54it [01:58,  2.19s/it]                        "
     ]
    },
    {
     "name": "stdout",
     "output_type": "stream",
     "text": [
      "Inference completed in 118.19 seconds\n",
      "Saved prediction to results\\Hung\\Makkak_Satellite_Conf_07_prediction.tif\n"
     ]
    },
    {
     "name": "stderr",
     "output_type": "stream",
     "text": [
      "\n"
     ]
    }
   ],
   "source": [
    "geoai.object_detection(\n",
    "    test_raster_path,\n",
    "    masks_path,\n",
    "    model_path,\n",
    "    window_size=800,\n",
    "    overlap=400,\n",
    "    confidence_threshold=0.7,\n",
    "    batch_size=4,\n",
    "    num_channels=3,\n",
    ")"
   ]
  },
  {
   "cell_type": "code",
   "execution_count": 12,
   "metadata": {},
   "outputs": [
    {
     "name": "stdout",
     "output_type": "stream",
     "text": [
      "Processing 676 features...\n"
     ]
    },
    {
     "name": "stderr",
     "output_type": "stream",
     "text": [
      "Converting features: 100%|██████████| 676/676 [00:06<00:00, 99.07shape/s] \n"
     ]
    },
    {
     "name": "stdout",
     "output_type": "stream",
     "text": [
      "Saving to results\\Hung\\Makkak_Satellite_Conf_07_prediction.geojson...\n",
      "Done!\n"
     ]
    }
   ],
   "source": [
    "# masks_path = r\"results\\POC3\\120Epochs\\Test3_120_Jun16_prediction.tif\"\n",
    "output_path = r\"results\\Hung\\Makkak_Satellite_Conf_07_prediction.geojson\"\n",
    "gdf = geoai.orthogonalize(masks_path, output_path, epsilon=2)"
   ]
  },
  {
   "cell_type": "markdown",
   "metadata": {},
   "source": [
    "## Visualize results"
   ]
  },
  {
   "cell_type": "code",
   "execution_count": null,
   "metadata": {},
   "outputs": [],
   "source": [
    "geoai.view_vector_interactive(output_path, tiles=test_raster_path)"
   ]
  }
 ],
 "metadata": {
  "kernelspec": {
   "display_name": ".envs",
   "language": "python",
   "name": "python3"
  },
  "language_info": {
   "codemirror_mode": {
    "name": "ipython",
    "version": 3
   },
   "file_extension": ".py",
   "mimetype": "text/x-python",
   "name": "python",
   "nbconvert_exporter": "python",
   "pygments_lexer": "ipython3",
   "version": "3.12.10"
  }
 },
 "nbformat": 4,
 "nbformat_minor": 4
}
